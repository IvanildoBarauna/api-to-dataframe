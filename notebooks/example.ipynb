{
 "cells": [
  {
   "cell_type": "code",
   "metadata": {
    "ExecuteTime": {
     "end_time": "2024-06-20T17:28:18.653294Z",
     "start_time": "2024-06-20T17:28:13.772706Z"
    }
   },
   "source": "pip install --upgrade pip && pip install api-to-dataframe",
   "outputs": [
    {
     "name": "stdout",
     "output_type": "stream",
     "text": [
      "Requirement already satisfied: pip in /Users/ivsouza/repos/personal_repos/api-to-dataframe/.venv/lib/python3.9/site-packages (24.0)\r\n",
      "Requirement already satisfied: api-to-dataframe in /Users/ivsouza/repos/personal_repos/api-to-dataframe/.venv/lib/python3.9/site-packages (1.2.0)\r\n",
      "Requirement already satisfied: pandas<3.0.0,>=2.2.2 in /Users/ivsouza/repos/personal_repos/api-to-dataframe/.venv/lib/python3.9/site-packages (from api-to-dataframe) (2.2.2)\r\n",
      "Requirement already satisfied: requests<3.0.0,>=2.32.3 in /Users/ivsouza/repos/personal_repos/api-to-dataframe/.venv/lib/python3.9/site-packages (from api-to-dataframe) (2.32.3)\r\n",
      "Requirement already satisfied: numpy>=1.22.4 in /Users/ivsouza/repos/personal_repos/api-to-dataframe/.venv/lib/python3.9/site-packages (from pandas<3.0.0,>=2.2.2->api-to-dataframe) (1.26.4)\r\n",
      "Requirement already satisfied: python-dateutil>=2.8.2 in /Users/ivsouza/repos/personal_repos/api-to-dataframe/.venv/lib/python3.9/site-packages (from pandas<3.0.0,>=2.2.2->api-to-dataframe) (2.9.0.post0)\r\n",
      "Requirement already satisfied: pytz>=2020.1 in /Users/ivsouza/repos/personal_repos/api-to-dataframe/.venv/lib/python3.9/site-packages (from pandas<3.0.0,>=2.2.2->api-to-dataframe) (2024.1)\r\n",
      "Requirement already satisfied: tzdata>=2022.7 in /Users/ivsouza/repos/personal_repos/api-to-dataframe/.venv/lib/python3.9/site-packages (from pandas<3.0.0,>=2.2.2->api-to-dataframe) (2024.1)\r\n",
      "Requirement already satisfied: charset-normalizer<4,>=2 in /Users/ivsouza/repos/personal_repos/api-to-dataframe/.venv/lib/python3.9/site-packages (from requests<3.0.0,>=2.32.3->api-to-dataframe) (3.3.2)\r\n",
      "Requirement already satisfied: idna<4,>=2.5 in /Users/ivsouza/repos/personal_repos/api-to-dataframe/.venv/lib/python3.9/site-packages (from requests<3.0.0,>=2.32.3->api-to-dataframe) (3.7)\r\n",
      "Requirement already satisfied: urllib3<3,>=1.21.1 in /Users/ivsouza/repos/personal_repos/api-to-dataframe/.venv/lib/python3.9/site-packages (from requests<3.0.0,>=2.32.3->api-to-dataframe) (2.2.1)\r\n",
      "Requirement already satisfied: certifi>=2017.4.17 in /Users/ivsouza/repos/personal_repos/api-to-dataframe/.venv/lib/python3.9/site-packages (from requests<3.0.0,>=2.32.3->api-to-dataframe) (2024.6.2)\r\n",
      "Requirement already satisfied: six>=1.5 in /Users/ivsouza/repos/personal_repos/api-to-dataframe/.venv/lib/python3.9/site-packages (from python-dateutil>=2.8.2->pandas<3.0.0,>=2.2.2->api-to-dataframe) (1.16.0)\r\n",
      "Note: you may need to restart the kernel to use updated packages.\n"
     ]
    }
   ],
   "execution_count": 3
  },
  {
   "metadata": {
    "ExecuteTime": {
     "end_time": "2024-06-20T17:30:43.076831Z",
     "start_time": "2024-06-20T17:30:42.981486Z"
    }
   },
   "cell_type": "code",
   "source": [
    "from api_to_dataframe import ClientBuilder, RetryStrategies\n",
    "\n",
    "client = ClientBuilder(\n",
    "    endpoint=\"https://brasilapi.com.br/api/banks/v1\", retry_strategy=RetryStrategies)\n",
    "\n",
    "api_data = client.get_api_data()\n",
    "df = client.api_to_dataframe(api_data)"
   ],
   "outputs": [],
   "execution_count": 6
  },
  {
   "metadata": {
    "ExecuteTime": {
     "end_time": "2024-06-20T17:30:51.598804Z",
     "start_time": "2024-06-20T17:30:51.571405Z"
    }
   },
   "cell_type": "code",
   "source": "df.head()",
   "outputs": [
    {
     "data": {
      "text/plain": [
       "       ispb                        name   code  \\\n",
       "0  00000000          BCO DO BRASIL S.A.    1.0   \n",
       "1  00000208  BRB - BCO DE BRASILIA S.A.   70.0   \n",
       "2  00038121                       Selic    NaN   \n",
       "3  00038166                       Bacen    NaN   \n",
       "4  00122327       SANTINVEST S.A. - CFI  539.0   \n",
       "\n",
       "                                            fullName  \n",
       "0                               Banco do Brasil S.A.  \n",
       "1                       BRB - BANCO DE BRASILIA S.A.  \n",
       "2                    Banco Central do Brasil - Selic  \n",
       "3                            Banco Central do Brasil  \n",
       "4  SANTINVEST S.A. - CREDITO, FINANCIAMENTO E INV...  "
      ],
      "text/html": [
       "<div>\n",
       "<style scoped>\n",
       "    .dataframe tbody tr th:only-of-type {\n",
       "        vertical-align: middle;\n",
       "    }\n",
       "\n",
       "    .dataframe tbody tr th {\n",
       "        vertical-align: top;\n",
       "    }\n",
       "\n",
       "    .dataframe thead th {\n",
       "        text-align: right;\n",
       "    }\n",
       "</style>\n",
       "<table border=\"1\" class=\"dataframe\">\n",
       "  <thead>\n",
       "    <tr style=\"text-align: right;\">\n",
       "      <th></th>\n",
       "      <th>ispb</th>\n",
       "      <th>name</th>\n",
       "      <th>code</th>\n",
       "      <th>fullName</th>\n",
       "    </tr>\n",
       "  </thead>\n",
       "  <tbody>\n",
       "    <tr>\n",
       "      <th>0</th>\n",
       "      <td>00000000</td>\n",
       "      <td>BCO DO BRASIL S.A.</td>\n",
       "      <td>1.0</td>\n",
       "      <td>Banco do Brasil S.A.</td>\n",
       "    </tr>\n",
       "    <tr>\n",
       "      <th>1</th>\n",
       "      <td>00000208</td>\n",
       "      <td>BRB - BCO DE BRASILIA S.A.</td>\n",
       "      <td>70.0</td>\n",
       "      <td>BRB - BANCO DE BRASILIA S.A.</td>\n",
       "    </tr>\n",
       "    <tr>\n",
       "      <th>2</th>\n",
       "      <td>00038121</td>\n",
       "      <td>Selic</td>\n",
       "      <td>NaN</td>\n",
       "      <td>Banco Central do Brasil - Selic</td>\n",
       "    </tr>\n",
       "    <tr>\n",
       "      <th>3</th>\n",
       "      <td>00038166</td>\n",
       "      <td>Bacen</td>\n",
       "      <td>NaN</td>\n",
       "      <td>Banco Central do Brasil</td>\n",
       "    </tr>\n",
       "    <tr>\n",
       "      <th>4</th>\n",
       "      <td>00122327</td>\n",
       "      <td>SANTINVEST S.A. - CFI</td>\n",
       "      <td>539.0</td>\n",
       "      <td>SANTINVEST S.A. - CREDITO, FINANCIAMENTO E INV...</td>\n",
       "    </tr>\n",
       "  </tbody>\n",
       "</table>\n",
       "</div>"
      ]
     },
     "execution_count": 7,
     "metadata": {},
     "output_type": "execute_result"
    }
   ],
   "execution_count": 7
  },
  {
   "metadata": {},
   "cell_type": "code",
   "outputs": [],
   "execution_count": null,
   "source": ""
  }
 ],
 "metadata": {
  "kernelspec": {
   "display_name": "awesome-data-ingestion-bT26QLZB-py3.9",
   "language": "python",
   "name": "python3"
  },
  "language_info": {
   "codemirror_mode": {
    "name": "ipython",
    "version": 3
   },
   "file_extension": ".py",
   "mimetype": "text/x-python",
   "name": "python",
   "nbconvert_exporter": "python",
   "pygments_lexer": "ipython3",
   "version": "3.9.6"
  }
 },
 "nbformat": 4,
 "nbformat_minor": 2
}
